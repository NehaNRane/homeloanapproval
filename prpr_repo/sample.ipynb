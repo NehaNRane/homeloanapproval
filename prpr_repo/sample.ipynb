{
 "cells": [
  {
   "cell_type": "code",
   "execution_count": 1,
   "id": "8af76489-75ce-43db-afe1-dde54e178c90",
   "metadata": {},
   "outputs": [
    {
     "name": "stdout",
     "output_type": "stream",
     "text": [
      "Hello Notebook.!\n"
     ]
    }
   ],
   "source": [
    "print(\"Hello Notebook.!\")"
   ]
  },
  {
   "cell_type": "code",
   "execution_count": null,
   "id": "95ef2723-4c48-4ccd-b2bb-a615a8bf20c8",
   "metadata": {},
   "outputs": [],
   "source": []
  }
 ],
 "metadata": {
  "kernelspec": {
   "display_name": "Python 3",
   "language": "python",
   "name": "python3"
  },
  "language_info": {
   "codemirror_mode": {
    "name": "ipython",
    "version": 3
   },
   "file_extension": ".py",
   "mimetype": "text/x-python",
   "name": "python",
   "nbconvert_exporter": "python",
   "pygments_lexer": "ipython3",
   "version": "3.10.13"
  }
 },
 "nbformat": 4,
 "nbformat_minor": 5
}
